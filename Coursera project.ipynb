{
 "cells": [
  {
   "cell_type": "markdown",
   "id": "6223444c",
   "metadata": {},
   "source": [
    "**`Coursera project`**\n",
    "\n",
    "Project Scenario: You are a Data Scientist with a housing agency in Boston MA, you have been given access to a previous dataset on housing prices derived from the U.S. Census Service to present insights to higher management. Based on your experience in Statistics, what information can you provide them to help with making an informed decision? Upper management will like to get some insight into the following.\n",
    "\n",
    "* Is there a significant difference in the median value of houses bounded by the Charles river or not?\n",
    "\n",
    "* Is there a difference in median values of houses of each proportion of owner-occupied units built before 1940?\n",
    "\n",
    "* Can we conclude that there is no relationship between Nitric oxide concentrations and the proportion of non-retail business acres per town?\n",
    "\n",
    "* What is the impact of an additional weighted distance to the five Boston employment centres on the median value of owner-    occupied homes?\n",
    "\n",
    "* Using the appropriate graphs and charts, generate basic statistics and visualizations that you think will be useful for the  upper management to give them important insight given the question they are asking, in your graphs, include an explanation of each statistic. \n",
    "\n",
    "* Details regarding the project will be broken down in the next reading sections."
   ]
  },
  {
   "cell_type": "code",
   "execution_count": 38,
   "id": "adab4fe5",
   "metadata": {},
   "outputs": [],
   "source": [
    "import numpy as np\n",
    "import pandas as pd\n",
    "import matplotlib.pyplot as plt\n",
    "import seaborn as sns\n",
    "from scipy import stats"
   ]
  },
  {
   "cell_type": "markdown",
   "id": "2e024366",
   "metadata": {},
   "source": [
    "`I couldnt find your data set on coursera cause there was 404 error of unfinding`"
   ]
  },
  {
   "cell_type": "code",
   "execution_count": 30,
   "id": "d46676e0",
   "metadata": {},
   "outputs": [
    {
     "data": {
      "text/html": [
       "<div>\n",
       "<style scoped>\n",
       "    .dataframe tbody tr th:only-of-type {\n",
       "        vertical-align: middle;\n",
       "    }\n",
       "\n",
       "    .dataframe tbody tr th {\n",
       "        vertical-align: top;\n",
       "    }\n",
       "\n",
       "    .dataframe thead th {\n",
       "        text-align: right;\n",
       "    }\n",
       "</style>\n",
       "<table border=\"1\" class=\"dataframe\">\n",
       "  <thead>\n",
       "    <tr style=\"text-align: right;\">\n",
       "      <th></th>\n",
       "      <th>crim</th>\n",
       "      <th>zn</th>\n",
       "      <th>indus</th>\n",
       "      <th>chas</th>\n",
       "      <th>nox</th>\n",
       "      <th>rm</th>\n",
       "      <th>age</th>\n",
       "      <th>dis</th>\n",
       "      <th>rad</th>\n",
       "      <th>tax</th>\n",
       "      <th>ptratio</th>\n",
       "      <th>black</th>\n",
       "      <th>lstat</th>\n",
       "      <th>medv</th>\n",
       "    </tr>\n",
       "  </thead>\n",
       "  <tbody>\n",
       "    <tr>\n",
       "      <th>0</th>\n",
       "      <td>0.15876</td>\n",
       "      <td>0.0</td>\n",
       "      <td>10.81</td>\n",
       "      <td>0.0</td>\n",
       "      <td>0.413</td>\n",
       "      <td>5.961</td>\n",
       "      <td>17.5</td>\n",
       "      <td>5.2873</td>\n",
       "      <td>4.0</td>\n",
       "      <td>305.0</td>\n",
       "      <td>19.2</td>\n",
       "      <td>376.94</td>\n",
       "      <td>9.88</td>\n",
       "      <td>21.7</td>\n",
       "    </tr>\n",
       "    <tr>\n",
       "      <th>1</th>\n",
       "      <td>0.10328</td>\n",
       "      <td>25.0</td>\n",
       "      <td>5.13</td>\n",
       "      <td>0.0</td>\n",
       "      <td>0.453</td>\n",
       "      <td>5.927</td>\n",
       "      <td>47.2</td>\n",
       "      <td>6.9320</td>\n",
       "      <td>8.0</td>\n",
       "      <td>284.0</td>\n",
       "      <td>19.7</td>\n",
       "      <td>396.90</td>\n",
       "      <td>9.22</td>\n",
       "      <td>19.6</td>\n",
       "    </tr>\n",
       "    <tr>\n",
       "      <th>2</th>\n",
       "      <td>0.34940</td>\n",
       "      <td>0.0</td>\n",
       "      <td>9.90</td>\n",
       "      <td>0.0</td>\n",
       "      <td>0.544</td>\n",
       "      <td>5.972</td>\n",
       "      <td>76.7</td>\n",
       "      <td>3.1025</td>\n",
       "      <td>4.0</td>\n",
       "      <td>304.0</td>\n",
       "      <td>18.4</td>\n",
       "      <td>396.24</td>\n",
       "      <td>9.97</td>\n",
       "      <td>20.3</td>\n",
       "    </tr>\n",
       "    <tr>\n",
       "      <th>3</th>\n",
       "      <td>2.73397</td>\n",
       "      <td>0.0</td>\n",
       "      <td>19.58</td>\n",
       "      <td>0.0</td>\n",
       "      <td>0.871</td>\n",
       "      <td>5.597</td>\n",
       "      <td>94.9</td>\n",
       "      <td>1.5257</td>\n",
       "      <td>5.0</td>\n",
       "      <td>403.0</td>\n",
       "      <td>14.7</td>\n",
       "      <td>351.85</td>\n",
       "      <td>21.45</td>\n",
       "      <td>15.4</td>\n",
       "    </tr>\n",
       "    <tr>\n",
       "      <th>4</th>\n",
       "      <td>0.04337</td>\n",
       "      <td>21.0</td>\n",
       "      <td>5.64</td>\n",
       "      <td>0.0</td>\n",
       "      <td>0.439</td>\n",
       "      <td>6.115</td>\n",
       "      <td>63.0</td>\n",
       "      <td>6.8147</td>\n",
       "      <td>4.0</td>\n",
       "      <td>243.0</td>\n",
       "      <td>16.8</td>\n",
       "      <td>393.97</td>\n",
       "      <td>9.43</td>\n",
       "      <td>20.5</td>\n",
       "    </tr>\n",
       "    <tr>\n",
       "      <th>...</th>\n",
       "      <td>...</td>\n",
       "      <td>...</td>\n",
       "      <td>...</td>\n",
       "      <td>...</td>\n",
       "      <td>...</td>\n",
       "      <td>...</td>\n",
       "      <td>...</td>\n",
       "      <td>...</td>\n",
       "      <td>...</td>\n",
       "      <td>...</td>\n",
       "      <td>...</td>\n",
       "      <td>...</td>\n",
       "      <td>...</td>\n",
       "      <td>...</td>\n",
       "    </tr>\n",
       "    <tr>\n",
       "      <th>399</th>\n",
       "      <td>9.32909</td>\n",
       "      <td>0.0</td>\n",
       "      <td>18.10</td>\n",
       "      <td>0.0</td>\n",
       "      <td>0.713</td>\n",
       "      <td>6.185</td>\n",
       "      <td>98.7</td>\n",
       "      <td>2.2616</td>\n",
       "      <td>24.0</td>\n",
       "      <td>666.0</td>\n",
       "      <td>20.2</td>\n",
       "      <td>396.90</td>\n",
       "      <td>18.13</td>\n",
       "      <td>14.1</td>\n",
       "    </tr>\n",
       "    <tr>\n",
       "      <th>400</th>\n",
       "      <td>51.13580</td>\n",
       "      <td>0.0</td>\n",
       "      <td>18.10</td>\n",
       "      <td>0.0</td>\n",
       "      <td>0.597</td>\n",
       "      <td>5.757</td>\n",
       "      <td>100.0</td>\n",
       "      <td>1.4130</td>\n",
       "      <td>24.0</td>\n",
       "      <td>666.0</td>\n",
       "      <td>20.2</td>\n",
       "      <td>2.60</td>\n",
       "      <td>10.11</td>\n",
       "      <td>15.0</td>\n",
       "    </tr>\n",
       "    <tr>\n",
       "      <th>401</th>\n",
       "      <td>0.01501</td>\n",
       "      <td>90.0</td>\n",
       "      <td>1.21</td>\n",
       "      <td>1.0</td>\n",
       "      <td>0.401</td>\n",
       "      <td>7.923</td>\n",
       "      <td>24.8</td>\n",
       "      <td>5.8850</td>\n",
       "      <td>1.0</td>\n",
       "      <td>198.0</td>\n",
       "      <td>13.6</td>\n",
       "      <td>395.52</td>\n",
       "      <td>3.16</td>\n",
       "      <td>50.0</td>\n",
       "    </tr>\n",
       "    <tr>\n",
       "      <th>402</th>\n",
       "      <td>0.02055</td>\n",
       "      <td>85.0</td>\n",
       "      <td>0.74</td>\n",
       "      <td>0.0</td>\n",
       "      <td>0.410</td>\n",
       "      <td>6.383</td>\n",
       "      <td>35.7</td>\n",
       "      <td>9.1876</td>\n",
       "      <td>2.0</td>\n",
       "      <td>313.0</td>\n",
       "      <td>17.3</td>\n",
       "      <td>396.90</td>\n",
       "      <td>5.77</td>\n",
       "      <td>24.7</td>\n",
       "    </tr>\n",
       "    <tr>\n",
       "      <th>403</th>\n",
       "      <td>0.08244</td>\n",
       "      <td>30.0</td>\n",
       "      <td>4.93</td>\n",
       "      <td>0.0</td>\n",
       "      <td>0.428</td>\n",
       "      <td>6.481</td>\n",
       "      <td>18.5</td>\n",
       "      <td>6.1899</td>\n",
       "      <td>6.0</td>\n",
       "      <td>300.0</td>\n",
       "      <td>16.6</td>\n",
       "      <td>379.41</td>\n",
       "      <td>6.36</td>\n",
       "      <td>23.7</td>\n",
       "    </tr>\n",
       "  </tbody>\n",
       "</table>\n",
       "<p>404 rows × 14 columns</p>\n",
       "</div>"
      ],
      "text/plain": [
       "         crim    zn  indus  chas    nox     rm    age     dis   rad    tax  \\\n",
       "0     0.15876   0.0  10.81   0.0  0.413  5.961   17.5  5.2873   4.0  305.0   \n",
       "1     0.10328  25.0   5.13   0.0  0.453  5.927   47.2  6.9320   8.0  284.0   \n",
       "2     0.34940   0.0   9.90   0.0  0.544  5.972   76.7  3.1025   4.0  304.0   \n",
       "3     2.73397   0.0  19.58   0.0  0.871  5.597   94.9  1.5257   5.0  403.0   \n",
       "4     0.04337  21.0   5.64   0.0  0.439  6.115   63.0  6.8147   4.0  243.0   \n",
       "..        ...   ...    ...   ...    ...    ...    ...     ...   ...    ...   \n",
       "399   9.32909   0.0  18.10   0.0  0.713  6.185   98.7  2.2616  24.0  666.0   \n",
       "400  51.13580   0.0  18.10   0.0  0.597  5.757  100.0  1.4130  24.0  666.0   \n",
       "401   0.01501  90.0   1.21   1.0  0.401  7.923   24.8  5.8850   1.0  198.0   \n",
       "402   0.02055  85.0   0.74   0.0  0.410  6.383   35.7  9.1876   2.0  313.0   \n",
       "403   0.08244  30.0   4.93   0.0  0.428  6.481   18.5  6.1899   6.0  300.0   \n",
       "\n",
       "     ptratio   black  lstat  medv  \n",
       "0       19.2  376.94   9.88  21.7  \n",
       "1       19.7  396.90   9.22  19.6  \n",
       "2       18.4  396.24   9.97  20.3  \n",
       "3       14.7  351.85  21.45  15.4  \n",
       "4       16.8  393.97   9.43  20.5  \n",
       "..       ...     ...    ...   ...  \n",
       "399     20.2  396.90  18.13  14.1  \n",
       "400     20.2    2.60  10.11  15.0  \n",
       "401     13.6  395.52   3.16  50.0  \n",
       "402     17.3  396.90   5.77  24.7  \n",
       "403     16.6  379.41   6.36  23.7  \n",
       "\n",
       "[404 rows x 14 columns]"
      ]
     },
     "execution_count": 30,
     "metadata": {},
     "output_type": "execute_result"
    }
   ],
   "source": [
    "df = pd.read_csv(r'C:\\Users\\Alimka\\Desktop\\Execution of learning\\Python\\files\\boston_data.csv')\n",
    "df"
   ]
  },
  {
   "cell_type": "markdown",
   "id": "dd2f5fdd",
   "metadata": {},
   "source": [
    "The following describes the dataset variables:\n",
    "\n",
    "·      CRIM - per capita crime rate by town\n",
    "\n",
    "·      ZN - proportion of residential land zoned for lots over 25,000 sq.ft.\n",
    "\n",
    "·      INDUS - proportion of non-retail business acres per town.\n",
    "\n",
    "·      CHAS - Charles River dummy variable (1 if tract bounds river; 0 otherwise)\n",
    "\n",
    "·      NOX - nitric oxides concentration (parts per 10 million)\n",
    "\n",
    "·      RM - average number of rooms per dwelling\n",
    "\n",
    "·      AGE - proportion of owner-occupied units built prior to 1940\n",
    "\n",
    "·      DIS - weighted distances to five Boston employment centres\n",
    "\n",
    "·      RAD - index of accessibility to radial highways\n",
    "\n",
    "·      TAX - full-value property-tax rate per $10,000\n",
    "\n",
    "·      PTRATIO - pupil-teacher ratio by town\n",
    "\n",
    "·      LSTAT - % lower status of the population\n",
    "\n",
    "·      MEDV - Median value of owner-occupied homes in $1000's"
   ]
  },
  {
   "cell_type": "markdown",
   "id": "85eda45a",
   "metadata": {},
   "source": [
    "`For the \"Median value of owner-occupied homes\" provide a boxplot`"
   ]
  },
  {
   "cell_type": "code",
   "execution_count": 6,
   "id": "eea1cd34",
   "metadata": {},
   "outputs": [
    {
     "data": {
      "text/plain": [
       "{'whiskers': [<matplotlib.lines.Line2D at 0x20d07982710>,\n",
       "  <matplotlib.lines.Line2D at 0x20d07983350>],\n",
       " 'caps': [<matplotlib.lines.Line2D at 0x20d07983f50>,\n",
       "  <matplotlib.lines.Line2D at 0x20d07988b10>],\n",
       " 'boxes': [<matplotlib.lines.Line2D at 0x20d078e9910>],\n",
       " 'medians': [<matplotlib.lines.Line2D at 0x20d07989610>],\n",
       " 'fliers': [<matplotlib.lines.Line2D at 0x20d074312d0>],\n",
       " 'means': []}"
      ]
     },
     "execution_count": 6,
     "metadata": {},
     "output_type": "execute_result"
    },
    {
     "data": {
      "image/png": "[encoded data removed]",
      "text/plain": [
       "<Figure size 640x480 with 1 Axes>"
      ]
     },
     "metadata": {},
     "output_type": "display_data"
    }
   ],
   "source": [
    "plt.boxplot(df['medv'])"
   ]
  },
  {
   "cell_type": "markdown",
   "id": "9f3844c0",
   "metadata": {},
   "source": [
    "We can see that median of the `MEDV` is near to ~24, but there a lot if data above Q3."
   ]
  },
  {
   "cell_type": "markdown",
   "id": "844b8c65",
   "metadata": {},
   "source": [
    "`Provide a  bar plot for the Charles river variable`"
   ]
  },
  {
   "cell_type": "code",
   "execution_count": 20,
   "id": "29b1e6c9",
   "metadata": {},
   "outputs": [
    {
     "data": {
      "text/plain": [
       "<BarContainer object of 2 artists>"
      ]
     },
     "execution_count": 20,
     "metadata": {},
     "output_type": "execute_result"
    },
    {
     "data": {
      "image/png": "[encoded data removed]",
      "text/plain": [
       "<Figure size 640x480 with 1 Axes>"
      ]
     },
     "metadata": {},
     "output_type": "display_data"
    }
   ],
   "source": [
    "unique_values, counts = np.unique(df['chas'], return_counts=True)\n",
    "plt.bar(unique_values, counts)"
   ]
  },
  {
   "cell_type": "markdown",
   "id": "7ebf9200",
   "metadata": {},
   "source": [
    "The bar plot shows for every unique value of column `chas` amount of repetitions"
   ]
  },
  {
   "cell_type": "markdown",
   "id": "3975bb02",
   "metadata": {},
   "source": [
    "`Provide a boxplot for the MEDV variable vs the AGE variable. (Discretize the age variable into three groups of 35 years and younger, between 35 and 70 years and 70 years and older)`"
   ]
  },
  {
   "cell_type": "code",
   "execution_count": 32,
   "id": "de6f06f5",
   "metadata": {},
   "outputs": [
    {
     "data": {
      "image/png": "[encoded data removed]",
      "text/plain": [
       "<Figure size 1000x600 with 1 Axes>"
      ]
     },
     "metadata": {},
     "output_type": "display_data"
    }
   ],
   "source": [
    "df['age_groups'] = pd.cut(df['age'], bins=[0, 35, 70, df['age'].max()], labels=['35 and younger', 'Between 35 and 70', '70 and older'])\n",
    "# Построение боксплотов\n",
    "plt.figure(figsize=(10, 6))\n",
    "sns.boxplot(x=df['age_groups'], y=df['medv'])\n",
    "plt.title('Boxplot of MEDV vs AGE Groups')\n",
    "plt.xlabel('AGE Groups')\n",
    "plt.ylabel('MEDV')\n",
    "plt.show()"
   ]
  },
  {
   "cell_type": "markdown",
   "id": "9ef96610",
   "metadata": {},
   "source": [
    "How we can see, with higher age medv decreases"
   ]
  },
  {
   "cell_type": "markdown",
   "id": "1d610c49",
   "metadata": {},
   "source": [
    "`Provide a scatter plot to show the relationship between Nitric oxide concentrations and the proportion of non-retail business acres per town. What can you say about the relationship?`"
   ]
  },
  {
   "cell_type": "code",
   "execution_count": 37,
   "id": "aecff7dd",
   "metadata": {},
   "outputs": [
    {
     "data": {
      "text/plain": [
       "Text(0, 0.5, 'proportion of non-retail business acres per town')"
      ]
     },
     "execution_count": 37,
     "metadata": {},
     "output_type": "execute_result"
    },
    {
     "data": {
      "image/png": "[encoded data removed]",
      "text/plain": [
       "<Figure size 1000x600 with 1 Axes>"
      ]
     },
     "metadata": {},
     "output_type": "display_data"
    }
   ],
   "source": [
    "plt.figure(figsize=(10, 6))\n",
    "sns.scatterplot(x=df['nox'], y=df['indus'])\n",
    "plt.xlabel('nitric oxides concentration')\n",
    "plt.ylabel('proportion of non-retail business acres per town')"
   ]
  },
  {
   "cell_type": "markdown",
   "id": "b45a8bf2",
   "metadata": {},
   "source": [
    "We see correlation with increasing nox increases indus"
   ]
  },
  {
   "cell_type": "markdown",
   "id": "3262d739",
   "metadata": {},
   "source": [
    "`Create a histogram for the pupil to teacher ratio variable`"
   ]
  },
  {
   "cell_type": "code",
   "execution_count": 43,
   "id": "2c9d8138",
   "metadata": {},
   "outputs": [
    {
     "data": {
      "image/png": "[encoded data removed]",
      "text/plain": [
       "<Figure size 1000x600 with 1 Axes>"
      ]
     },
     "metadata": {},
     "output_type": "display_data"
    }
   ],
   "source": [
    "plt.figure(figsize=(10, 6))\n",
    "plt.hist(df['ptratio'], bins = 15)\n",
    "plt.title('Histogram of Pupil to Teacher Ratio')\n",
    "plt.xlabel('Pupil to Teacher Ratio')\n",
    "plt.ylabel('Frequency')\n",
    "plt.grid(True)\n",
    "plt.show()"
   ]
  },
  {
   "cell_type": "markdown",
   "id": "3260dd80",
   "metadata": {},
   "source": [
    "`Is there a significant difference in median value of houses bounded by the Charles river or not? (T-test for independent samples)`"
   ]
  },
  {
   "cell_type": "code",
   "execution_count": 45,
   "id": "b05b625c",
   "metadata": {},
   "outputs": [],
   "source": [
    "alpha = 0.05"
   ]
  },
  {
   "cell_type": "code",
   "execution_count": 50,
   "id": "dcf116b8",
   "metadata": {},
   "outputs": [
    {
     "name": "stdout",
     "output_type": "stream",
     "text": [
      "T-Statistic: 2.8638447045933133\n",
      "P-Value: 0.00440463186567746\n",
      "There is significant difference\n"
     ]
    }
   ],
   "source": [
    "t_stat, p_val = stats.ttest_ind(df[df['chas'] == 1]['medv'], df[df['chas'] == 0]['medv'])\n",
    "print(\"T-Statistic:\", t_stat)\n",
    "print(\"P-Value:\", p_val)\n",
    "if p_val < alpha:\n",
    "    print(\"There is significant difference\")\n",
    "else:\n",
    "    print(\"There is no significant difference\")"
   ]
  },
  {
   "cell_type": "markdown",
   "id": "ab299ad2",
   "metadata": {},
   "source": [
    "Thx to t-test we define that there are no significant difference"
   ]
  },
  {
   "cell_type": "markdown",
   "id": "cec26cf6",
   "metadata": {},
   "source": [
    "`Is there a difference in Median values of houses (MEDV) for each proportion of owner occupied units built prior to 1940 (AGE)? (ANOVA)`"
   ]
  },
  {
   "cell_type": "code",
   "execution_count": 55,
   "id": "677210b7",
   "metadata": {},
   "outputs": [
    {
     "name": "stdout",
     "output_type": "stream",
     "text": [
      "F-Statistic: 1.1899261383634578\n",
      "P-Value: 0.14806686767717853\n",
      "There is no significant difference in medv\n"
     ]
    }
   ],
   "source": [
    "gd = [df[df['age'] == age_group]['medv'] for age_group in df['age'].unique()]\n",
    "f_stat, p_val = stats.f_oneway(*gd)\n",
    "\n",
    "print(\"F-Statistic:\", f_stat)\n",
    "print(\"P-Value:\", p_val)\n",
    "\n",
    "if p_val < alpha:\n",
    "    print(\"There is significant difference in medv\")\n",
    "else:\n",
    "    print(\"There is no significant difference in medv\")"
   ]
  },
  {
   "cell_type": "markdown",
   "id": "0a0b419b",
   "metadata": {},
   "source": [
    "`Can we conclude that there is no relationship between Nitric oxide concentrations and proportion of non-retail business acres per town? (Pearson Correlation)`"
   ]
  },
  {
   "cell_type": "code",
   "execution_count": 58,
   "id": "3a76bb9d",
   "metadata": {},
   "outputs": [
    {
     "name": "stdout",
     "output_type": "stream",
     "text": [
      "Pearson coeff: 0.7609129297893396\n",
      "P-value: 1.58683676729532e-77\n",
      "There is significant difference between NOX and INDUS\n"
     ]
    }
   ],
   "source": [
    "correlation_coefficient, p_value = stats.pearsonr(df['nox'], df['indus'])\n",
    "\n",
    "print(\"Pearson coeff:\", correlation_coefficient)\n",
    "print(\"P-value:\", p_value)\n",
    "\n",
    "alpha = 0.05\n",
    "if p_value < alpha:\n",
    "    print(\"There is significant difference between NOX and INDUS\")\n",
    "else:\n",
    "    print(\"There is no significant difference between NOX and INDUS\")"
   ]
  },
  {
   "cell_type": "markdown",
   "id": "72850f32",
   "metadata": {},
   "source": [
    "`What is the impact of an additional weighted distance  to the five Boston employment centres on the median value of owner occupied homes? (Regression analysis)`"
   ]
  },
  {
   "cell_type": "code",
   "execution_count": 60,
   "id": "f974ec78",
   "metadata": {},
   "outputs": [
    {
     "data": {
      "text/html": [
       "<table class=\"simpletable\">\n",
       "<caption>OLS Regression Results</caption>\n",
       "<tr>\n",
       "  <th>Dep. Variable:</th>          <td>medv</td>       <th>  R-squared:         </th> <td>   0.070</td>\n",
       "</tr>\n",
       "<tr>\n",
       "  <th>Model:</th>                   <td>OLS</td>       <th>  Adj. R-squared:    </th> <td>   0.068</td>\n",
       "</tr>\n",
       "<tr>\n",
       "  <th>Method:</th>             <td>Least Squares</td>  <th>  F-statistic:       </th> <td>   30.33</td>\n",
       "</tr>\n",
       "<tr>\n",
       "  <th>Date:</th>             <td>Sun, 14 Apr 2024</td> <th>  Prob (F-statistic):</th> <td>6.51e-08</td>\n",
       "</tr>\n",
       "<tr>\n",
       "  <th>Time:</th>                 <td>19:48:43</td>     <th>  Log-Likelihood:    </th> <td> -1438.4</td>\n",
       "</tr>\n",
       "<tr>\n",
       "  <th>No. Observations:</th>      <td>   404</td>      <th>  AIC:               </th> <td>   2881.</td>\n",
       "</tr>\n",
       "<tr>\n",
       "  <th>Df Residuals:</th>          <td>   402</td>      <th>  BIC:               </th> <td>   2889.</td>\n",
       "</tr>\n",
       "<tr>\n",
       "  <th>Df Model:</th>              <td>     1</td>      <th>                     </th>     <td> </td>   \n",
       "</tr>\n",
       "<tr>\n",
       "  <th>Covariance Type:</th>      <td>nonrobust</td>    <th>                     </th>     <td> </td>   \n",
       "</tr>\n",
       "</table>\n",
       "<table class=\"simpletable\">\n",
       "<tr>\n",
       "    <td></td>       <th>coef</th>     <th>std err</th>      <th>t</th>      <th>P>|t|</th>  <th>[0.025</th>    <th>0.975]</th>  \n",
       "</tr>\n",
       "<tr>\n",
       "  <th>const</th> <td>   18.0971</td> <td>    0.875</td> <td>   20.677</td> <td> 0.000</td> <td>   16.377</td> <td>   19.818</td>\n",
       "</tr>\n",
       "<tr>\n",
       "  <th>dis</th>   <td>    1.1094</td> <td>    0.201</td> <td>    5.507</td> <td> 0.000</td> <td>    0.713</td> <td>    1.505</td>\n",
       "</tr>\n",
       "</table>\n",
       "<table class=\"simpletable\">\n",
       "<tr>\n",
       "  <th>Omnibus:</th>       <td>117.972</td> <th>  Durbin-Watson:     </th> <td>   1.991</td>\n",
       "</tr>\n",
       "<tr>\n",
       "  <th>Prob(Omnibus):</th> <td> 0.000</td>  <th>  Jarque-Bera (JB):  </th> <td> 276.146</td>\n",
       "</tr>\n",
       "<tr>\n",
       "  <th>Skew:</th>          <td> 1.474</td>  <th>  Prob(JB):          </th> <td>1.09e-60</td>\n",
       "</tr>\n",
       "<tr>\n",
       "  <th>Kurtosis:</th>      <td> 5.777</td>  <th>  Cond. No.          </th> <td>    9.33</td>\n",
       "</tr>\n",
       "</table><br/><br/>Notes:<br/>[1] Standard Errors assume that the covariance matrix of the errors is correctly specified."
      ],
      "text/latex": [
       "\\begin{center}\n",
       "\\begin{tabular}{lclc}\n",
       "\\toprule\n",
       "\\textbf{Dep. Variable:}    &       medv       & \\textbf{  R-squared:         } &     0.070   \\\\\n",
       "\\textbf{Model:}            &       OLS        & \\textbf{  Adj. R-squared:    } &     0.068   \\\\\n",
       "\\textbf{Method:}           &  Least Squares   & \\textbf{  F-statistic:       } &     30.33   \\\\\n",
       "\\textbf{Date:}             & Sun, 14 Apr 2024 & \\textbf{  Prob (F-statistic):} &  6.51e-08   \\\\\n",
       "\\textbf{Time:}             &     19:48:43     & \\textbf{  Log-Likelihood:    } &   -1438.4   \\\\\n",
       "\\textbf{No. Observations:} &         404      & \\textbf{  AIC:               } &     2881.   \\\\\n",
       "\\textbf{Df Residuals:}     &         402      & \\textbf{  BIC:               } &     2889.   \\\\\n",
       "\\textbf{Df Model:}         &           1      & \\textbf{                     } &             \\\\\n",
       "\\textbf{Covariance Type:}  &    nonrobust     & \\textbf{                     } &             \\\\\n",
       "\\bottomrule\n",
       "\\end{tabular}\n",
       "\\begin{tabular}{lcccccc}\n",
       "               & \\textbf{coef} & \\textbf{std err} & \\textbf{t} & \\textbf{P$> |$t$|$} & \\textbf{[0.025} & \\textbf{0.975]}  \\\\\n",
       "\\midrule\n",
       "\\textbf{const} &      18.0971  &        0.875     &    20.677  &         0.000        &       16.377    &       19.818     \\\\\n",
       "\\textbf{dis}   &       1.1094  &        0.201     &     5.507  &         0.000        &        0.713    &        1.505     \\\\\n",
       "\\bottomrule\n",
       "\\end{tabular}\n",
       "\\begin{tabular}{lclc}\n",
       "\\textbf{Omnibus:}       & 117.972 & \\textbf{  Durbin-Watson:     } &    1.991  \\\\\n",
       "\\textbf{Prob(Omnibus):} &   0.000 & \\textbf{  Jarque-Bera (JB):  } &  276.146  \\\\\n",
       "\\textbf{Skew:}          &   1.474 & \\textbf{  Prob(JB):          } & 1.09e-60  \\\\\n",
       "\\textbf{Kurtosis:}      &   5.777 & \\textbf{  Cond. No.          } &     9.33  \\\\\n",
       "\\bottomrule\n",
       "\\end{tabular}\n",
       "%\\caption{OLS Regression Results}\n",
       "\\end{center}\n",
       "\n",
       "Notes: \\newline\n",
       " [1] Standard Errors assume that the covariance matrix of the errors is correctly specified."
      ],
      "text/plain": [
       "<class 'statsmodels.iolib.summary.Summary'>\n",
       "\"\"\"\n",
       "                            OLS Regression Results                            \n",
       "==============================================================================\n",
       "Dep. Variable:                   medv   R-squared:                       0.070\n",
       "Model:                            OLS   Adj. R-squared:                  0.068\n",
       "Method:                 Least Squares   F-statistic:                     30.33\n",
       "Date:                Sun, 14 Apr 2024   Prob (F-statistic):           6.51e-08\n",
       "Time:                        19:48:43   Log-Likelihood:                -1438.4\n",
       "No. Observations:                 404   AIC:                             2881.\n",
       "Df Residuals:                     402   BIC:                             2889.\n",
       "Df Model:                           1                                         \n",
       "Covariance Type:            nonrobust                                         \n",
       "==============================================================================\n",
       "                 coef    std err          t      P>|t|      [0.025      0.975]\n",
       "------------------------------------------------------------------------------\n",
       "const         18.0971      0.875     20.677      0.000      16.377      19.818\n",
       "dis            1.1094      0.201      5.507      0.000       0.713       1.505\n",
       "==============================================================================\n",
       "Omnibus:                      117.972   Durbin-Watson:                   1.991\n",
       "Prob(Omnibus):                  0.000   Jarque-Bera (JB):              276.146\n",
       "Skew:                           1.474   Prob(JB):                     1.09e-60\n",
       "Kurtosis:                       5.777   Cond. No.                         9.33\n",
       "==============================================================================\n",
       "\n",
       "Notes:\n",
       "[1] Standard Errors assume that the covariance matrix of the errors is correctly specified.\n",
       "\"\"\""
      ]
     },
     "execution_count": 60,
     "metadata": {},
     "output_type": "execute_result"
    }
   ],
   "source": [
    "import statsmodels.api as sm\n",
    "X = sm.add_constant(df['dis'])\n",
    "model = sm.OLS(df['medv'], X)\n",
    "results = model.fit()\n",
    "results.summary()"
   ]
  }
 ],
 "metadata": {
  "kernelspec": {
   "display_name": "Python 3 (ipykernel)",
   "language": "python",
   "name": "python3"
  },
  "language_info": {
   "codemirror_mode": {
    "name": "ipython",
    "version": 3
   },
   "file_extension": ".py",
   "mimetype": "text/x-python",
   "name": "python",
   "nbconvert_exporter": "python",
   "pygments_lexer": "ipython3",
   "version": "3.11.5"
  }
 },
 "nbformat": 4,
 "nbformat_minor": 5
}
